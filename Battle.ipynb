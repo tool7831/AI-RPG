{
 "cells": [
  {
   "cell_type": "code",
   "execution_count": null,
   "metadata": {},
   "outputs": [],
   "source": [
    "\n",
    "{\n",
    "    'Type': 'Attack, Defense, Buff, Debuff',\n",
    "    ''\n",
    "}"
   ]
  },
  {
   "cell_type": "code",
   "execution_count": null,
   "metadata": {},
   "outputs": [],
   "source": [
    "{'공격 타입':['물리', '마법']}\n",
    "{'물리 공격 방식': ['배기', '찌르기', '타격']}\n",
    "{'마법 공격 방식': ['배기', '찌르기', '타격', '폭발']}\n",
    "{'관통' : ['방어력 관통': \"%\", '마법 방어력 관통': \"%\"]}\n",
    "{'명중력': ''}\n",
    "{'상태이상': ['출혈', '독', '화상', '기절', '빙결', '마비', '수면', '침묵', '혼란', '실명', '매혹', '공포', '둔화', '속박', '약화']}\n",
    "{'출혈, 독, 화상, 빙결': {'데미지 계수', '지속 시간'}}\n",
    "{'기절, 마비, 수면, 침묵, 혼란, 실명, 매혹, 공포, 속박': {'지속시간'}}\n",
    "{'둔화, 약화': {'%', '지속시간'}}\n",
    "{'데미지': {'Status', 'Coef', 'Count'}}\n",
    "\n",
    "\n",
    "\n",
    "{\n",
    "    \"Attack_Type\": [\"Physical\", \"Magical\"],\n",
    "    \"Physical_Attack_Method\": [\"Slash\", \"Stab\", \"Strike\"],\n",
    "    \"Magical_Attack_Method\": [\"Slash\", \"Stab\", \"Strike\", \"Explosion\"],\n",
    "    \"Penetration\": {\n",
    "        \"Physical_Defense_Penetration\": \"%\",\n",
    "        \"Magical_Defense_Penetration\": \"%\"\n",
    "    },\n",
    "    \"Accuracy\": \"%\",\n",
    "    \"Status_Effect\": [\"Bleed\", \"Poison\", \"Burn\", \"Stun\", \"Freeze\", \"Paralysis\", \"Sleep\", \"Silence\", \"Confusion\", \"Blindness\", \"Charm\", \"Fear\", \"Slow\", \"Root\", \"Weaken\"],\n",
    "    \"Bleed_Poison_Burn_Freeze\": {\n",
    "        \"Status\": \"\",\n",
    "        \"Coefficient\": \"\",\n",
    "        \"Duration\": \"\"\n",
    "    },\n",
    "    \"Stun_Paralysis_Sleep_Silence_Confusion_Blindness_Charm_Fear_Root\": {\n",
    "        \"Duration\": \"\"\n",
    "    },\n",
    "    \"Slow_Weaken\": {\n",
    "        \"Effect_Percentage\": \"\",\n",
    "        \"Duration\": \"\"\n",
    "    },\n",
    "    \"Damage\": {\n",
    "        \"Status\": \"\",\n",
    "        \"Coefficient\": \"\",\n",
    "        \"Count\": \"\"\n",
    "    }\n",
    "}"
   ]
  },
  {
   "cell_type": "code",
   "execution_count": null,
   "metadata": {},
   "outputs": [],
   "source": [
    "Status Effect {\n",
    "    Stun, Poison, Burn, Freeze, Paralysis, Sleep, Silence, Confusion, Blindness, Charm, Curse, Fear, Petrify, Bleed, Slow, Root, Fatigue, Berserk, Weaken, Silence, Taunt \n",
    "    }\n"
   ]
  }
 ],
 "metadata": {
  "kernelspec": {
   "display_name": "Python 3",
   "language": "python",
   "name": "python3"
  },
  "language_info": {
   "codemirror_mode": {
    "name": "ipython",
    "version": 3
   },
   "file_extension": ".py",
   "mimetype": "text/x-python",
   "name": "python",
   "nbconvert_exporter": "python",
   "pygments_lexer": "ipython3",
   "version": "3.10.12"
  }
 },
 "nbformat": 4,
 "nbformat_minor": 2
}
