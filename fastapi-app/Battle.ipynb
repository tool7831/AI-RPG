{
 "cells": [
  {
   "cell_type": "code",
   "execution_count": null,
   "metadata": {},
   "outputs": [],
   "source": [
    "{'공격 타입':['물리', '마법']}\n",
    "{'물리 공격 방식': ['배기', '찌르기', '타격']}\n",
    "{'마법 공격 방식': ['배기', '찌르기', '타격', '폭발']}\n",
    "{'관통' : ['방어력 관통': \"%\", '마법 방어력 관통': \"%\"]}\n",
    "{'명중력': ''}\n",
    "{'상태이상': ['출혈', '독', '화상', '기절', '빙결', '마비', '수면', '침묵', '혼란', '실명', '매혹', '공포', '둔화', '속박', '약화']}\n",
    "{'출혈, 독, 화상, 빙결': {'데미지 계수', '지속 시간'}}\n",
    "{'기절, 마비, 수면, 침묵, 혼란, 실명, 매혹, 공포, 속박': {'지속시간'}}\n",
    "{'둔화, 약화': {'%', '지속시간'}}\n",
    "{'데미지': {'Status', 'Coef', 'Count'}}\n",
    "\n",
    "\n",
    "\n",
    "{\n",
    "    \"Attack_Type\": [\"Physical\", \"Magical\"],\n",
    "    \"Physical_Attack_Method\": [\"Slash\", \"Stab\", \"Strike\"],\n",
    "    \"Magical_Attack_Method\": [\"Slash\", \"Stab\", \"Strike\", \"Explosion\"],\n",
    "    \"Penetration\": {\n",
    "        \"Physical_Defense_Penetration\": \"%\",\n",
    "        \"Magical_Defense_Penetration\": \"%\"\n",
    "    },\n",
    "    \"Accuracy\": \"%\",\n",
    "    \"Status_Effect\": [\"Bleed\", \"Poison\", \"Burn\", \"Stun\", \"Freeze\", \"Paralysis\", \"Sleep\", \"Silence\", \"Confusion\", \"Blindness\", \"Charm\", \"Fear\", \"Slow\", \"Root\", \"Weaken\"],\n",
    "    \"Bleed_Poison_Burn_Freeze\": {\n",
    "        \"Status\": \"\",\n",
    "        \"Coefficient\": \"\",\n",
    "        \"Duration\": \"\"\n",
    "    },\n",
    "    \"Stun_Paralysis_Sleep_Silence_Confusion_Blindness_Charm_Fear_Root\": {\n",
    "        \"Duration\": \"\"\n",
    "    },\n",
    "    \"Slow_Weaken\": {\n",
    "        \"Effect_Percentage\": \"\",\n",
    "        \"Duration\": \"\"\n",
    "    },\n",
    "    \"Damage\": {\n",
    "        \"Status\": \"\",\n",
    "        \"Coefficient\": \"\",\n",
    "        \"Count\": \"\"\n",
    "    }\n",
    "}"
   ]
  },
  {
   "cell_type": "code",
   "execution_count": 1,
   "metadata": {},
   "outputs": [],
   "source": []
  },
  {
   "cell_type": "code",
   "execution_count": 13,
   "metadata": {},
   "outputs": [],
   "source": [
    "from Status import Status\n",
    "import json\n",
    "import Combat\n",
    "\n",
    "with open('sample_combat.json', 'r') as f:\n",
    "    data = json.load(f)\n",
    "    \n",
    "class Item():\n",
    "    def __init__(self, item):\n",
    "        self.name = item['Item Name']\n",
    "        self.type = item['Item Type']\n",
    "        self.description = item['Item Description']\n",
    "        self.restriction = item['Use Restriction']\n",
    "        self.effect = item['Effect']\n",
    "\n",
    "class Inventory():\n",
    "    def __init__(self, max_inv):\n",
    "        self.inventory = list()\n",
    "        self.max_inv = max_inv\n",
    "    \n",
    "    def add_item(self, item):\n",
    "        if len(self.inventory) < self.max_inv:\n",
    "            self.inventory.append(item)\n",
    "        else:\n",
    "            print('max_inv')\n",
    "    \n",
    "    def remove_item(self, item):\n",
    "        self.inventory.remove(item)\n",
    "\n",
    "    def add_max_inv(self, value):\n",
    "        self.max_inv = self.max_inv + value if self.max_inv + value > 0 else 0 \n",
    "\n",
    "    def isFull(self):\n",
    "        return len(self.inventory) < self.max_inv\n",
    "\n",
    "\n",
    "class Equipment():\n",
    "    def __init__(self):\n",
    "        self.helmet = None\n",
    "        self.armor = None\n",
    "        self.pants = None\n",
    "        self.gloves = None\n",
    "        self.shoes = None\n",
    "        self.ring1 = None\n",
    "        self.ring2 = None\n",
    "        self.earring1 = None\n",
    "        self.earring2 = None\n",
    "        self.necklace = None\n",
    "        self.right_hand = None\n",
    "        self.left_hand = None\n",
    "\n",
    "    def equip(self, slot, item):\n",
    "        prev = getattr(self, slot)\n",
    "        setattr(self, slot, item)\n",
    "        return prev\n",
    "    \n",
    "    def unequip(self, slot):\n",
    "        item = getattr(self, slot)\n",
    "        setattr(self, slot, None)\n",
    "        return item\n",
    "    \n",
    "    \n",
    "\n",
    "class Player():\n",
    "    def __init__(self, name, description, status):\n",
    "        self.name = name\n",
    "        self.description = description\n",
    "        self.status = Status(status)\n",
    "\n",
    "        self.equipment = Equipment()\n",
    "        self.inventory = Inventory(30)\n",
    "\n",
    "    def equip(self, slot, item):\n",
    "        flag = True\n",
    "        for key, value in item.restriction.items():\n",
    "            if self.status.max_status[key] < value:\n",
    "                flag = False\n",
    "\n",
    "        if flag == True:\n",
    "            prev = self.equipment.equip(slot, item)\n",
    "            if prev is not None:\n",
    "                self.inventory.add_item(prev)\n",
    "                for key, value in prev.effect.items():\n",
    "                    self.status.change_added_value(key, -value)\n",
    "\n",
    "            for key, value in item.effect.items():\n",
    "                self.status.change_added_value(key, value)\n",
    "            \n",
    "            self.inventory.remove_item(item)\n",
    "\n",
    "    def unequip(self, slot):\n",
    "        item = self.equipment.unequip(slot)\n",
    "        self.inventory.add_item(item)\n",
    "\n",
    "    def add_item(self, item):\n",
    "        self.inventory.add_item(item)\n",
    "\n",
    "    def remove_item(self, item):\n",
    "        self.inventory.remove_item(item)\n",
    "\n",
    "    def get_item(self, idx):\n",
    "        return self.inventory.inventory[idx]\n",
    "\n",
    "    def print(self):\n",
    "        print(vars(self))\n",
    "        print(vars(self.status))\n",
    "        print(vars(self.equipment))\n",
    "        print(vars(self.inventory))\n"
   ]
  },
  {
   "cell_type": "code",
   "execution_count": 3,
   "metadata": {},
   "outputs": [
    {
     "data": {
      "text/plain": [
       "{'Combat': {'Monster Name': 'Rogue Demon',\n",
       "  'Monster Description': 'A malevolent creature with burning red eyes and charred wings, cloaked in dark mist. It preys on travelers, disrupting the natural balance of Blackwood Forest.',\n",
       "  'Status': {'HP': 300,\n",
       "   'MP': 50,\n",
       "   'Strength': 40,\n",
       "   'Skill': 25,\n",
       "   'Dexterity': 10,\n",
       "   'Intelligence': 20,\n",
       "   'Luck': 5,\n",
       "   'Defense': 20,\n",
       "   'Speed': 10,\n",
       "   'Concentration': 15,\n",
       "   'Reaction': 10,\n",
       "   'MP Regeneration': 1,\n",
       "   'HP Regeneration': 1},\n",
       "  'Reward': {'gold': 200, 'exp': 150},\n",
       "  'Item': {'Item Type': 'Weapon',\n",
       "   'Item Name': 'Demon Slasher',\n",
       "   'Item Description': 'A cursed sword forged in the Underworld. It is exceptionally efficient against demonic beings.',\n",
       "   'Use Restriction': {'Strength': 25},\n",
       "   'Effect': {'Strength': 25, 'Luck': -5}}}}"
      ]
     },
     "execution_count": 3,
     "metadata": {},
     "output_type": "execute_result"
    }
   ],
   "source": [
    "data"
   ]
  },
  {
   "cell_type": "code",
   "execution_count": 4,
   "metadata": {},
   "outputs": [],
   "source": [
    "from Enemy import Enemy\n",
    "\n",
    "def combat(json):\n",
    "    return Enemy(json)\n",
    "\n",
    "e = combat(data['Combat'])\n"
   ]
  },
  {
   "cell_type": "code",
   "execution_count": 5,
   "metadata": {},
   "outputs": [
    {
     "name": "stdout",
     "output_type": "stream",
     "text": [
      "{'name': 'Rogue Demon', 'description': 'A malevolent creature with burning red eyes and charred wings, cloaked in dark mist. It preys on travelers, disrupting the natural balance of Blackwood Forest.', 'reward': {'gold': 200, 'exp': 150}, 'status': <Status.Status object at 0x7f9720d7a6b0>, 'item': <Item.Item object at 0x7f9720d795a0>}\n",
      "{'status': {'HP': 300, 'MP': 50, 'Strength': 40, 'Skill': 25, 'Dexterity': 10, 'Intelligence': 20, 'Luck': 5, 'Defense': 20, 'Speed': 10, 'Concentration': 15, 'Reaction': 10, 'MP Regeneration': 1, 'HP Regeneration': 1}, 'max_status': {'HP': 300, 'MP': 50, 'Strength': 40, 'Skill': 25, 'Dexterity': 10, 'Intelligence': 20, 'Luck': 5, 'Defense': 20, 'Speed': 10, 'Concentration': 15, 'Reaction': 10, 'MP Regeneration': 1, 'HP Regeneration': 1}, 'added_status': {'HP': 0, 'MP': 0, 'Strength': 0, 'Skill': 0, 'Dexterity': 0, 'Intelligence': 0, 'Luck': 0, 'Defense': 0, 'Speed': 0, 'Concentration': 0, 'Reaction': 0, 'MP Regeneration': 0, 'HP Regeneration': 0}, 'durable': []}\n",
      "{'name': 'Demon Slasher', 'type': 'Weapon', 'description': 'A cursed sword forged in the Underworld. It is exceptionally efficient against demonic beings.', 'restriction': {'Strength': 25}, 'effect': {'Strength': 25, 'Luck': -5}}\n"
     ]
    }
   ],
   "source": [
    "print(vars(e))\n",
    "print(vars(e.status))\n",
    "print(vars(e.item))"
   ]
  },
  {
   "cell_type": "code",
   "execution_count": 6,
   "metadata": {},
   "outputs": [
    {
     "name": "stdout",
     "output_type": "stream",
     "text": [
      "Strength 25\n",
      "Luck -5\n"
     ]
    }
   ],
   "source": [
    "for key, value in e.item.effect.items():\n",
    "    print(key, value)"
   ]
  },
  {
   "cell_type": "code",
   "execution_count": 14,
   "metadata": {},
   "outputs": [],
   "source": [
    "status = {'HP': 100, 'MP': 50, 'Strength': 25, 'Skill': 10, 'Dexterity': 10, 'Intelligence': 10, 'Luck': 10, 'Defense': 10, 'Speed': 10, 'Concentration': 10, 'Reaction': 10, 'MP Regeneration': 1, 'HP Regeneration': 1}\n",
    "player = Player('ABC', 'test player', status)\n",
    "item = Item(data['Combat']['Item'])"
   ]
  },
  {
   "cell_type": "code",
   "execution_count": 15,
   "metadata": {},
   "outputs": [
    {
     "name": "stdout",
     "output_type": "stream",
     "text": [
      "{'name': 'ABC', 'description': 'test player', 'status': <Status.Status object at 0x7f9720a422c0>, 'equipment': <__main__.Equipment object at 0x7f9720a54670>, 'inventory': <__main__.Inventory object at 0x7f9720a54160>}\n",
      "{'status': {'HP': 100, 'MP': 50, 'Strength': 25, 'Skill': 10, 'Dexterity': 10, 'Intelligence': 10, 'Luck': 10, 'Defense': 10, 'Speed': 10, 'Concentration': 10, 'Reaction': 10, 'MP Regeneration': 1, 'HP Regeneration': 1}, 'max_status': {'HP': 100, 'MP': 50, 'Strength': 25, 'Skill': 10, 'Dexterity': 10, 'Intelligence': 10, 'Luck': 10, 'Defense': 10, 'Speed': 10, 'Concentration': 10, 'Reaction': 10, 'MP Regeneration': 1, 'HP Regeneration': 1}, 'added_status': {'HP': 0, 'MP': 0, 'Strength': 0, 'Skill': 0, 'Dexterity': 0, 'Intelligence': 0, 'Luck': 0, 'Defense': 0, 'Speed': 0, 'Concentration': 0, 'Reaction': 0, 'MP Regeneration': 0, 'HP Regeneration': 0}, 'durable': []}\n",
      "{'helmet': None, 'armor': None, 'pants': None, 'gloves': None, 'shoes': None, 'ring1': None, 'ring2': None, 'earring1': None, 'earring2': None, 'necklace': None, 'right_hand': None, 'left_hand': None}\n",
      "{'inventory': [], 'max_inv': 30}\n"
     ]
    }
   ],
   "source": [
    "player.print()"
   ]
  },
  {
   "cell_type": "code",
   "execution_count": 16,
   "metadata": {},
   "outputs": [
    {
     "data": {
      "text/plain": [
       "{'name': 'Demon Slasher',\n",
       " 'type': 'Weapon',\n",
       " 'description': 'A cursed sword forged in the Underworld. It is exceptionally efficient against demonic beings.',\n",
       " 'restriction': {'Strength': 25},\n",
       " 'effect': {'Strength': 25, 'Luck': -5}}"
      ]
     },
     "execution_count": 16,
     "metadata": {},
     "output_type": "execute_result"
    }
   ],
   "source": [
    "vars(item)"
   ]
  },
  {
   "cell_type": "code",
   "execution_count": 17,
   "metadata": {},
   "outputs": [],
   "source": [
    "player.add_item(item)"
   ]
  },
  {
   "cell_type": "code",
   "execution_count": 18,
   "metadata": {},
   "outputs": [],
   "source": [
    "player.equip('right_hand', item)"
   ]
  },
  {
   "cell_type": "code",
   "execution_count": 19,
   "metadata": {},
   "outputs": [
    {
     "name": "stdout",
     "output_type": "stream",
     "text": [
      "{'name': 'ABC', 'description': 'test player', 'status': <Status.Status object at 0x7f9720a422c0>, 'equipment': <__main__.Equipment object at 0x7f9720a54670>, 'inventory': <__main__.Inventory object at 0x7f9720a54160>}\n",
      "{'status': {'HP': 100, 'MP': 50, 'Strength': 50, 'Skill': 10, 'Dexterity': 10, 'Intelligence': 10, 'Luck': 5, 'Defense': 10, 'Speed': 10, 'Concentration': 10, 'Reaction': 10, 'MP Regeneration': 1, 'HP Regeneration': 1}, 'max_status': {'HP': 100, 'MP': 50, 'Strength': 50, 'Skill': 10, 'Dexterity': 10, 'Intelligence': 10, 'Luck': 5, 'Defense': 10, 'Speed': 10, 'Concentration': 10, 'Reaction': 10, 'MP Regeneration': 1, 'HP Regeneration': 1}, 'added_status': {'HP': 0, 'MP': 0, 'Strength': 25, 'Skill': 0, 'Dexterity': 0, 'Intelligence': 0, 'Luck': -5, 'Defense': 0, 'Speed': 0, 'Concentration': 0, 'Reaction': 0, 'MP Regeneration': 0, 'HP Regeneration': 0}, 'durable': []}\n",
      "{'helmet': None, 'armor': None, 'pants': None, 'gloves': None, 'shoes': None, 'ring1': None, 'ring2': None, 'earring1': None, 'earring2': None, 'necklace': None, 'right_hand': <__main__.Item object at 0x7f9720912b90>, 'left_hand': None}\n",
      "{'inventory': [], 'max_inv': 30}\n"
     ]
    }
   ],
   "source": [
    "player.print()"
   ]
  },
  {
   "cell_type": "code",
   "execution_count": 20,
   "metadata": {},
   "outputs": [],
   "source": [
    "player.unequip('right_hand')"
   ]
  },
  {
   "cell_type": "code",
   "execution_count": 22,
   "metadata": {},
   "outputs": [
    {
     "name": "stdout",
     "output_type": "stream",
     "text": [
      "{'name': 'ABC', 'description': 'test player', 'status': <Status.Status object at 0x7f9720a422c0>, 'equipment': <__main__.Equipment object at 0x7f9720a54670>, 'inventory': <__main__.Inventory object at 0x7f9720a54160>}\n",
      "{'status': {'HP': 100, 'MP': 50, 'Strength': 50, 'Skill': 10, 'Dexterity': 10, 'Intelligence': 10, 'Luck': 5, 'Defense': 10, 'Speed': 10, 'Concentration': 10, 'Reaction': 10, 'MP Regeneration': 1, 'HP Regeneration': 1}, 'max_status': {'HP': 100, 'MP': 50, 'Strength': 50, 'Skill': 10, 'Dexterity': 10, 'Intelligence': 10, 'Luck': 5, 'Defense': 10, 'Speed': 10, 'Concentration': 10, 'Reaction': 10, 'MP Regeneration': 1, 'HP Regeneration': 1}, 'added_status': {'HP': 0, 'MP': 0, 'Strength': 25, 'Skill': 0, 'Dexterity': 0, 'Intelligence': 0, 'Luck': -5, 'Defense': 0, 'Speed': 0, 'Concentration': 0, 'Reaction': 0, 'MP Regeneration': 0, 'HP Regeneration': 0}, 'durable': []}\n",
      "{'helmet': None, 'armor': None, 'pants': None, 'gloves': None, 'shoes': None, 'ring1': None, 'ring2': None, 'earring1': None, 'earring2': None, 'necklace': None, 'right_hand': None, 'left_hand': None}\n",
      "{'inventory': [<__main__.Item object at 0x7f9720912b90>], 'max_inv': 30}\n"
     ]
    }
   ],
   "source": [
    "player.print()"
   ]
  },
  {
   "cell_type": "code",
   "execution_count": null,
   "metadata": {},
   "outputs": [],
   "source": []
  }
 ],
 "metadata": {
  "kernelspec": {
   "display_name": "Python 3",
   "language": "python",
   "name": "python3"
  },
  "language_info": {
   "codemirror_mode": {
    "name": "ipython",
    "version": 3
   },
   "file_extension": ".py",
   "mimetype": "text/x-python",
   "name": "python",
   "nbconvert_exporter": "python",
   "pygments_lexer": "ipython3",
   "version": "3.10.12"
  }
 },
 "nbformat": 4,
 "nbformat_minor": 2
}
