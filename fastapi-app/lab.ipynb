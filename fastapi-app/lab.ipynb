{
 "cells": [
  {
   "cell_type": "code",
   "execution_count": 1,
   "metadata": {},
   "outputs": [],
   "source": [
    "from openai import OpenAI\n",
    "import os\n",
    "import json\n",
    "import time"
   ]
  },
  {
   "cell_type": "code",
   "execution_count": 2,
   "metadata": {},
   "outputs": [],
   "source": [
    "input = {'story':{'text': 'In the realm of Eldoria, magic flows through the very air like an invisible river, influencing every aspect of life. Ancient kingdoms vie for power, their armies bolstered by sorcerers and mythical creatures, such as dragons and griffins. The land is scarred with the remnants of past wars between gods and mortals, and forgotten relics of divine power are said to rest in the depths of enchanted forests or the peaks of towering mountains. The balance between light and shadow is fragile, with the fate of the world hinging on a group of unlikely heroes destined to tip the scales.'}, 'player':{'name': '1111', 'description': '2222', 'level': 1, 'exp': 0, 'nextExp': 100, 'statPoints': 0, 'status': {'status': {'hp': 50, 'mp': 100, 'shield': 50, 'strength': 5, 'dexterity': 5, 'intelligence': 20, 'luck': 5, 'defense': 5, 'agility': 10, 'resistance': 10, 'toughness': 10, 'hp_regeneration': 0, 'mp_regeneration': 1}, 'origin_status': {'hp': 50, 'mp': 100, 'shield': 50, 'strength': 5, 'dexterity': 5, 'intelligence': 20, 'luck': 5, 'defense': 5, 'agility': 10, 'resistance': 10, 'toughness': 10, 'hp_regeneration': 0, 'mp_regeneration': 1}, 'added_status': {'hp': 0, 'mp': 0, 'shield': 0, 'strength': 0, 'dexterity': 0, 'intelligence': 0, 'luck': 0, 'defense': 0, 'agility': 0, 'resistance': 0, 'toughness': 0, 'hp_regeneration': 0, 'mp_regeneration': 0}}, 'attacks': [{'name': 'Frost Bolt', 'type': 'magic', 'defaultDamage': 80, 'coef': {'intelligence': 1}, 'count': 1, 'penetration': 5, 'accuracy': 85, 'cooldown': 3, 'statusEffect': {'type': 'Freeze', 'duration': 2, 'defaultValue': 0, 'coef': {'intelligence': 0.1}, 'accuracy': 40}, 'curCooldown': 0}, {'name': 'Arcane Missile', 'type': 'magic', 'defaultDamage': 15, 'coef': {'intelligence': 0.5}, 'count': 4, 'penetration': 5, 'accuracy': 90, 'cooldown': 2, 'curCooldown': 0}], 'defends': [{'name': 'Magic Shield', 'type': 'shield', 'defaultValue': 20, 'coef': {'intelligence': 1}, 'duration': 3, 'cooldown': 4, 'curCooldown': 0}], 'smites': [{'name': 'Mana Burst', 'type': 'damage', 'defaultValue': 30, 'coef': {'intelligence': 0.5}, 'cooldown': 5, 'curCooldown': 0}], 'inventory': {'items': [], 'equipments': {'helmet': None, 'armor': None, 'pants': None, 'shoes': None, 'gloves': None, 'rightHand': None, 'leftHand': None, 'ring1': None, 'ring2': None, 'earring1': None, 'earring2': None, 'necklace': None}}}}"
   ]
  },
  {
   "cell_type": "code",
   "execution_count": 5,
   "metadata": {},
   "outputs": [],
   "source": [
    "message = [\n",
    "    {\n",
    "        \"type\": \"text\",\n",
    "        \"text\": {\"Worldview\":input['story']['text']}\n",
    "    },\n",
    "    {\n",
    "        \"type\": \"text\",\n",
    "        \"text\": {\"player\":{\n",
    "            \"name\": input['player']['name'],\n",
    "            \"description\": input['player']['description'],\n",
    "            \"level\": input['player']['level'],\n",
    "            \"status\": input['player']['status'],\n",
    "        }}\n",
    "    }   \n",
    "]"
   ]
  },
  {
   "cell_type": "code",
   "execution_count": 26,
   "metadata": {},
   "outputs": [],
   "source": [
    "from openai import OpenAI\n",
    "import os\n",
    "import json\n",
    "import time\n",
    "\n",
    "from openai.types.beta.assistant_stream_event import (\n",
    "    ThreadRunRequiresAction,\n",
    "    ThreadMessageDelta,\n",
    "    ThreadRunFailed,\n",
    "    ThreadRunCancelling,\n",
    "    ThreadRunCancelled,\n",
    "    ThreadRunExpired,\n",
    "    ThreadRunStepFailed,\n",
    "    ThreadRunStepCancelled,\n",
    ")\n",
    "\n",
    "client = OpenAI(api_key = os.environ['OPENAI_API_KEY'])\n",
    "STORY_ID = 'asst_QJULNvgbgB8cU1YgY5JzLAyr'\n",
    "SKILL_ID = 'asst_JSej8B49OeeI7IwOUNp3dpKY'\n",
    "ENEMY_ID = 'asst_ppQ8bsiqkd0w3G8N7tn7NUCb'\n",
    "PENALTY_ID = 'asst_jjPhkdDYvzUWcto0DGh0x35r'\n",
    "REWARD_ID = 'asst_YvLH1ztf6NC7qbLQGnlcUV4c'\n",
    "\n",
    "def create_thread():\n",
    "  return client.beta.threads.create()\n",
    "\n",
    "def show_message(json_object):\n",
    "  if 'Story' in json_object:\n",
    "    for idx, choice in enumerate(json_object['Choices']):\n",
    "      print(f'{idx+1}: {choice[\"text\"]} ({choice[\"status\"]}), Gold:({choice[\"gold\"]}), ({choice[\"next_type\"]})')\n",
    "     \n",
    "\n",
    "def run_thread(thread, user_message, assistant_id=STORY_ID):\n",
    "  for idx in range(len(user_message)):\n",
    "    user_message[idx]['text'] = str(user_message[idx]['text'])\n",
    "  run = submit_message(user_message, thread, assistant_id)\n",
    "  run = wait_run(run, thread)\n",
    "  messages = get_message(thread)\n",
    "  text = messages.data[0].content[0].text.value\n",
    "  json_object=json.loads(text)\n",
    "\n",
    "  show_message(json_object)\n",
    "  time.sleep(0.5)\n",
    "  return json_object\n",
    "\n",
    "\n",
    "def run(thread, message):\n",
    "  if 'Worldview' in message[0]['text']:\n",
    "    # First message\n",
    "    response = run_thread(thread, message, STORY_ID)\n",
    "  elif 'next_type' in message[0]['text']:\n",
    "    # Story selection\n",
    "    if message[0]['text']['next_type'] == 'story':\n",
    "      response = run_thread(thread, message, STORY_ID)\n",
    "    elif message[0]['text']['next_type'] == 'combat':\n",
    "      enemy = run_thread(thread, message, ENEMY_ID)\n",
    "      enemy_info = str({'name':enemy['combat']['name'], 'description': enemy['combat']['description']})\n",
    "      message = [\n",
    "        {\n",
    "          'type': 'text',\n",
    "          'text': f'Make enemy skills for {enemy_info}'\n",
    "        }\n",
    "      ]\n",
    "      skills = run_thread(thread, message, SKILL_ID)\n",
    "      response = {'combat':dict(enemy['combat'], **skills)}\n",
    "    elif message[0]['text']['next_type'] == 'reward':\n",
    "      reward = run_thread(thread, message, REWARD_ID)\n",
    "    elif message[0]['text']['next_type'] == 'penalty':\n",
    "      penalty = run_thread(thread, message, PENALTY_ID)\n",
    "    else:\n",
    "      response = 'error'\n",
    "      \n",
    "  return response\n",
    "\n",
    "\n",
    "def submit_message(user_message, thread, assistant_id=STORY_ID):\n",
    "  for idx in range(len(message)):\n",
    "    message[idx]['text'] = str(message[idx]['text'])\n",
    "  client.beta.threads.messages.create(\n",
    "    thread_id=thread.id,\n",
    "    role=\"user\",\n",
    "    content=user_message\n",
    "  )\n",
    "  run = client.beta.threads.runs.create(\n",
    "    thread_id=thread.id,\n",
    "    assistant_id=assistant_id,\n",
    "    stream=True\n",
    "  )\n",
    "  for event in run:\n",
    "    if isinstance(event, ThreadMessageDelta):\n",
    "      data = event.data.delta.content\n",
    "      for d in data:\n",
    "        for token in d:\n",
    "          yield token\n",
    "\n",
    "\n",
    "def wait_run(run, thread):\n",
    "  while run.status == \"queued\" or run.status == \"in_progress\":\n",
    "    # connect thread and assistant\n",
    "    run = client.beta.threads.runs.retrieve(\n",
    "      thread_id=thread.id,\n",
    "      run_id=run.id\n",
    "    )\n",
    "    time.sleep(0.5)\n",
    "  return run\n",
    "\n",
    "def get_message(thread):\n",
    "  return client.beta.threads.messages.list(thread_id=thread.id)"
   ]
  },
  {
   "cell_type": "code",
   "execution_count": 17,
   "metadata": {},
   "outputs": [],
   "source": [
    "thread = create_thread()"
   ]
  },
  {
   "cell_type": "code",
   "execution_count": 29,
   "metadata": {},
   "outputs": [
    {
     "name": "stdout",
     "output_type": "stream",
     "text": [
      "{\"story\":\"With a fierce determination, you harness your magic, drawing deep into your reservoir of power. In a blinding flash, you release a torrent of energy towards the Shade Wraith. The spell crackles through the air, striking the wraith with a burst of light that pierces through the darkness. The creature lets out an ear-splitting shriek as it is engulfed in a radiant explosion. For a moment, silence reigns in the grove, and then the wraith’s form begins to disintegrate, shadows fleeing from the light. As the echo of its last cry fades, the Shade Wraith disappears into nothingness, leaving only the crystal-clear Orb of Illumination on the pedestal before you, radiating warmth and magic. You’ve triumphed against darkness and secured the artifact—an omen of brighter days ahead.\",\"choices\":[{\"text\":\"Pick up the Orb of Illumination and study its power.\",\"status\":{\"hp\":null,\"mp\":null,\"strength\":null,\"dexterity\":null,\"intelligence\":null,\"luck\":10,\"defense\":null,\"agility\":null,\"resistance\":null,\"toughness\":null},\"next_type\":\"reward\"},{\"text\":\"Inspect the grove for any hidden treasures or remnants of the Shade Wraith.\",\"status\":{\"hp\":null,\"mp\":null,\"strength\":null,\"dexterity\":null,\"intelligence\":null,\"luck\":15,\"defense\":null,\"agility\":null,\"resistance\":null,\"toughness\":null},\"next_type\":\"story\"},{\"text\":\"Leave the grove and head deeper into the Heartwood Forest to seek new adventures.\",\"status\":{\"hp\":null,\"mp\":null,\"strength\":null,\"dexterity\":null,\"intelligence\":null,\"luck\":null,\"defense\":null,\"agility\":null,\"resistance\":null,\"toughness\":null},\"next_type\":\"story\"}]}"
     ]
    }
   ],
   "source": [
    "for idx in range(len(message)):\n",
    "    message[idx]['text'] = str(message[idx]['text'])\n",
    "for i in submit_message(message, thread, STORY_ID):\n",
    "    if i[0] == 'text':\n",
    "        print(i[1].value, flush=True, end='')"
   ]
  }
 ],
 "metadata": {
  "kernelspec": {
   "display_name": "Python 3",
   "language": "python",
   "name": "python3"
  },
  "language_info": {
   "codemirror_mode": {
    "name": "ipython",
    "version": 3
   },
   "file_extension": ".py",
   "mimetype": "text/x-python",
   "name": "python",
   "nbconvert_exporter": "python",
   "pygments_lexer": "ipython3",
   "version": "3.10.12"
  }
 },
 "nbformat": 4,
 "nbformat_minor": 2
}
