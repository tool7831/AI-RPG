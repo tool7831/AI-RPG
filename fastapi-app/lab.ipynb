{
 "cells": [
  {
   "cell_type": "code",
   "execution_count": 1,
   "metadata": {},
   "outputs": [],
   "source": [
    "from openai import OpenAI\n",
    "import os\n",
    "import json\n",
    "import time\n",
    "import Combat"
   ]
  },
  {
   "cell_type": "code",
   "execution_count": 2,
   "metadata": {},
   "outputs": [],
   "source": [
    "client = OpenAI(api_key = os.environ['OPENAI_API_KEY'])"
   ]
  },
  {
   "cell_type": "code",
   "execution_count": 3,
   "metadata": {},
   "outputs": [],
   "source": [
    "f = open('system_prompt.txt','r')\n",
    "system_prompt = f.read()\n",
    "f.close()\n",
    "f = open('world_view', 'r')\n",
    "world_view = f.read()\n",
    "f.close()"
   ]
  },
  {
   "cell_type": "code",
   "execution_count": 12,
   "metadata": {},
   "outputs": [],
   "source": [
    "# # create new assistant object\n",
    "# assistant = client.beta.assistants.create(\n",
    "#     name=\"Story Generator\",\n",
    "#     instructions = system_prompt,\n",
    "#     response_format={\"type\": \"json_object\"},\n",
    "#     model=\"gpt-4o\",\n",
    "# )\n",
    "# ASSISTANT_ID = assistant.id\n",
    "\n",
    "# Using pre-made assistant\n",
    "STORY_ID = 'asst_QJULNvgbgB8cU1YgY5JzLAyr'\n",
    "SKILL_ID = 'asst_JSej8B49OeeI7IwOUNp3dpKY'"
   ]
  },
  {
   "cell_type": "code",
   "execution_count": 5,
   "metadata": {},
   "outputs": [],
   "source": [
    "player_status = '''{\n",
    "  'Player Name': 'Argon', \n",
    "  'status': {'HP':200, 'MP':100, \n",
    "             'Strength':30, 'Skill':15, \n",
    "             'Dexterity': 5, 'Intelligence': 5, \n",
    "             'Luck': 5, 'Defense': 30, \n",
    "             'Speed': 5, 'Concentration': 20, \n",
    "             'Reaction': 15, 'MP Regeneration': 2, 'HP Regeneration': 2},\n",
    "  'Gold': 1000, \n",
    "  'Level': 10, \n",
    "  'Gender': 'Male', \n",
    "  'Social Status': 'Commoner', \n",
    "  'Strength Level': '2-star Knight', \n",
    "  'Equipment': { 'Top': {'Item Name': 'Ordinary Leather Armor', 'Use Restriction': None, 'Effect': {'Defense':10, 'Dexterity': -3}}, \n",
    "                'Weapon': {'Item Name': 'Iron Sword', 'Use Restriction': {'Strength':15}, 'Effect': {'Strength':10}} } \n",
    "}'''"
   ]
  },
  {
   "cell_type": "code",
   "execution_count": 6,
   "metadata": {},
   "outputs": [],
   "source": [
    "start_message = [\n",
    "  {\n",
    "    \"type\": \"text\",\n",
    "    \"text\": world_view\n",
    "  },\n",
    "  {\n",
    "    \"type\": \"text\",\n",
    "    \"text\": player_status\n",
    "  }\n",
    "]"
   ]
  },
  {
   "cell_type": "code",
   "execution_count": 21,
   "metadata": {},
   "outputs": [],
   "source": [
    "def show_message(json_object):\n",
    "  if 'Story' in json_object:\n",
    "    display(json_object['Story'])\n",
    "    for idx, choice in enumerate(json_object['Choices']):\n",
    "      print(f'{idx+1}: {choice[\"text\"]} ({choice[\"status\"]}), Gold:({choice[\"gold\"]}), ({choice[\"next_type\"]})')\n",
    "  else:\n",
    "    display(json_object)\n",
    "    \n",
    "def switching(json_object):\n",
    "  if 'Combat' in json_object:\n",
    "    Combat.combat(json_object)\n",
    "    \n",
    "\n",
    "def run_thread(user_message, thread, assistant_id):\n",
    "  run = submit_message(user_message, thread, assistant_id)\n",
    "  run = wait_run(run, thread)\n",
    "  messages = get_message(thread)\n",
    "  text = messages.data[0].content[0].text.value\n",
    "  json_object=json.loads(text)\n",
    "\n",
    "  show_message(json_object)\n",
    "  time.sleep(0.5)\n",
    "  return json_object\n",
    "\n",
    "\n",
    "def start_thread(thread, start_message, assistant_id):\n",
    "  # create thread and add first message in thread\n",
    "  run_thread(start_message, thread, assistant_id)\n",
    "\n",
    "  for i in range(10):\n",
    "    user_message = input()\n",
    "    print(user_message)\n",
    "    if user_message == \"quit\":\n",
    "      break\n",
    "    response = run_thread(user_message, thread, assistant_id)\n",
    "    if 'Combat' in response:\n",
    "      run_thread(str(response['Combat']), thread, SKILL_ID)\n",
    "\n",
    "\n",
    "def submit_message(user_message, thread, assistant_id):\n",
    "  client.beta.threads.messages.create(\n",
    "    thread_id=thread.id,\n",
    "    role=\"user\",\n",
    "    content=user_message\n",
    "  )\n",
    "  run = client.beta.threads.runs.create(\n",
    "    thread_id=thread.id,\n",
    "    assistant_id=assistant_id,\n",
    "  )\n",
    "  return run\n",
    "\n",
    "\n",
    "def wait_run(run, thread):\n",
    "  while run.status == \"queued\" or run.status == \"in_progress\":\n",
    "    # connect thread and assistant\n",
    "    run = client.beta.threads.runs.retrieve(\n",
    "      thread_id=thread.id,\n",
    "      run_id=run.id\n",
    "    )\n",
    "    time.sleep(0.5)\n",
    "  return run\n",
    "\n",
    "def get_message(thread):\n",
    "  return client.beta.threads.messages.list(thread_id=thread.id)"
   ]
  },
  {
   "cell_type": "code",
   "execution_count": 22,
   "metadata": {},
   "outputs": [],
   "source": [
    "thread = client.beta.threads.create()"
   ]
  },
  {
   "cell_type": "code",
   "execution_count": 23,
   "metadata": {},
   "outputs": [
    {
     "data": {
      "text/plain": [
       "\"Argon found himself standing at the edge of the ominous Blackwood Forest, a place known for its malevolent spirits and rogue demons. As a 2-star knight, he had faced many challenges, but the tales of creatures lurking within the forest sent shivers down his spine. It was said that a particularly powerful **Rogue Demon** was preying on travelers and disrupting the local ecosystem. Upon entering, the forest felt alive, whispering secrets as the wind howled through the twisted trees. Every step Argon took seemed to echo, amplifying the foreboding atmosphere. After some time navigating the dense woods, he came across an ancient, crumbling statue—a sentinel from a forgotten age. Pausing to catch his breath, Argon's ears picked up a rustling noise from the shadows. Something, or someone, was watching him.\""
      ]
     },
     "metadata": {},
     "output_type": "display_data"
    },
    {
     "name": "stdout",
     "output_type": "stream",
     "text": [
      "1: Investigate the rustling noise ({'HP': -10, 'Reaction': 5}), Gold:(0), (Combat)\n",
      "2: Ignore it and proceed deeper into the forest ({'Concentration': -5}), Gold:(0), (Story)\n",
      "1\n"
     ]
    },
    {
     "data": {
      "text/plain": [
       "{'Combat': {'Monster Name': 'Rogue Demon',\n",
       "  'Monster Description': 'A malevolent creature with burning red eyes and charred wings, cloaked in dark mist. It preys on travelers, disrupting the natural balance of Blackwood Forest.',\n",
       "  'status': {'HP': 300,\n",
       "   'MP': 50,\n",
       "   'Strength': 40,\n",
       "   'Skill': 25,\n",
       "   'Dexterity': 10,\n",
       "   'Intelligence': 20,\n",
       "   'Luck': 5,\n",
       "   'Defense': 20,\n",
       "   'Speed': 10,\n",
       "   'Concentration': 15,\n",
       "   'Reaction': 10,\n",
       "   'MP Regeneration': 1,\n",
       "   'HP Regeneration': 1}},\n",
       " 'Reward': {'gold': 200, 'exp': 150},\n",
       " 'Item': {'Item types': 'Weapon',\n",
       "  'Item Name': 'Demon Slasher',\n",
       "  'Item Description': 'A cursed sword forged in the Underworld. It is exceptionally efficient against demonic beings.',\n",
       "  'Use Restriction': {'Strength': 25},\n",
       "  'Effect': {'Strength': 25, 'Luck': -5}}}"
      ]
     },
     "metadata": {},
     "output_type": "display_data"
    },
    {
     "data": {
      "text/plain": [
       "{'Attack_Type': 'Magical',\n",
       " 'Magical_Attack_Method': 'Explosion',\n",
       " 'Penetration': {'Physical_Defense_Penetration': '15%',\n",
       "  'Magical_Defense_Penetration': '10%'},\n",
       " 'Accuracy': '80%',\n",
       " 'Status_Effect': {'Effect_Type': ['Burn'],\n",
       "  'Effect_Details': {'Bleed_Poison_Burn_Freeze': {'Status': ['Intelligence'],\n",
       "    'Coefficient': ['0.2'],\n",
       "    'Duration': '3 turns'}}},\n",
       " 'Damage': {'Status': ['Intelligence', 'Skill'],\n",
       "  'Coefficient': ['2.0', '1.5'],\n",
       "  'Count': '1'}}"
      ]
     },
     "metadata": {},
     "output_type": "display_data"
    },
    {
     "name": "stdout",
     "output_type": "stream",
     "text": [
      "victory\n"
     ]
    },
    {
     "data": {
      "text/plain": [
       "\"Argon's iron sword glinted as it cut through the dark mist surrounding the Rogue Demon. With a final, powerful strike, he brought the creature down, its burning red eyes fading as it expelled a haunting wail. As the demon's essence dissipated, the forest seemed to breathe a sigh of relief, the air becoming lighter and less oppressive. Among the demon’s scattered remains, Argon discovered a pile of gold coins and a sinister-looking sword—the **Demon Slasher**. Though it pulsed with a dark energy, he could sense its potential to turn the tides in battles to come.\""
      ]
     },
     "metadata": {},
     "output_type": "display_data"
    },
    {
     "name": "stdout",
     "output_type": "stream",
     "text": [
      "1: Take the Demon Slasher and proceed deeper into the forest ({'Strength': 25, 'Luck': -5}), Gold:(0), (Story)\n",
      "2: Leave the Demon Slasher and continue without it ({}), Gold:(0), (Story)\n",
      "1\n"
     ]
    },
    {
     "data": {
      "text/plain": [
       "'Argon picked up the Demon Slasher, feeling its weight and the dark energy emanating from it. He strapped it to his back, his strength bolstered by the cursed weapon. The forest, now eerily quiet, seemed to part for him as he ventured deeper. The air grew colder, and the trees denser, until he stumbled upon a clearing. In the center stood an ancient, decrepit tower, its stones covered in moss and vines. It was said to be the lost tower of an old, powerful mage who dabbled in forbidden magic. Legends spoke of the tower holding great treasures but also unimaginable dangers.'"
      ]
     },
     "metadata": {},
     "output_type": "display_data"
    },
    {
     "name": "stdout",
     "output_type": "stream",
     "text": [
      "1: Enter the tower and explore its secrets ({'Concentration': 10}), Gold:(0), (Story)\n",
      "2: Set up camp outside the tower and rest ({'HP Regeneration': 10, 'MP Regeneration': 5}), Gold:(0), (Story)\n",
      "3: Turn back and leave the forest ({}), Gold:(0), (Story)\n",
      "1\n"
     ]
    },
    {
     "data": {
      "text/plain": [
       "\"Argon steeled himself and pushed open the heavy wooden doors of the tower. They creaked loudly, echoing through the dark, musty interior. As he stepped inside, he immediately noticed the walls lined with ancient tomes and glowing runes. The air was thick with a sense of arcane power and the forgotten knowledge of the old mage. In the center of the room, a spiral staircase wound its way up into the shadows above. A faint, eerie light glowed at the top, suggesting that the mage's experiments might still be active. The scent of burnt herbs and old parchment filled the room.\""
      ]
     },
     "metadata": {},
     "output_type": "display_data"
    },
    {
     "name": "stdout",
     "output_type": "stream",
     "text": [
      "1: Climb the staircase to the top of the tower ({'Speed': 5}), Gold:(0), (Story)\n",
      "2: Investigate the ancient tomes and runes ({'Intelligence': 10}), Gold:(0), (Story)\n",
      "3: Look for hidden traps or secrets on the ground floor ({'Skill': 5}), Gold:(0), (Story)\n",
      "1\n"
     ]
    },
    {
     "data": {
      "text/plain": [
       "\"As Argon began to climb the creaking spiral staircase, each step seemed to echo louder than the last. The eerie light above grew brighter as he ascended, casting long, distorted shadows on the walls. When he reached the top, he found himself in a large chamber filled with strange apparatus and bubbling potions. In the center of the room, floating above a stone pedestal, was an orb radiating a mesmerizing light. Argon could feel the immense magical energy emanating from it. As he stepped closer, a spectral figure materialized, blocking his path. It was the spectral guardian of the tower and former apprentice of the mage who once resided here, intent on protecting its master's secrets.\""
      ]
     },
     "metadata": {},
     "output_type": "display_data"
    },
    {
     "name": "stdout",
     "output_type": "stream",
     "text": [
      "1: Engage the spectral guardian in combat ({'Reaction': 10}), Gold:(0), (Combat)\n",
      "2: Try to communicate with the spectral guardian ({'Intelligence': 10}), Gold:(0), (Story)\n",
      "3: Attempt to bypass the spectral guardian and grab the orb ({'Dexterity': 10, 'Luck': 5}), Gold:(0), (Story)\n",
      "1\n"
     ]
    },
    {
     "data": {
      "text/plain": [
       "{'Combat': {'Monster Name': 'Spectral Guardian',\n",
       "  'Monster Description': \"An ethereal figure dressed in the tattered remnants of a mage's robe. The guardian wields a spectral staff and glows with an eerie, otherworldly light.\",\n",
       "  'status': {'HP': 250,\n",
       "   'MP': 100,\n",
       "   'Strength': 20,\n",
       "   'Skill': 30,\n",
       "   'Dexterity': 15,\n",
       "   'Intelligence': 35,\n",
       "   'Luck': 10,\n",
       "   'Defense': 15,\n",
       "   'Speed': 20,\n",
       "   'Concentration': 25,\n",
       "   'Reaction': 20,\n",
       "   'MP Regeneration': 5,\n",
       "   'HP Regeneration': 2}},\n",
       " 'Reward': {'gold': 300, 'exp': 200},\n",
       " 'Item': {'Item types': 'Ring',\n",
       "  'Item Name': 'Ring of Arcane Mastery',\n",
       "  'Item Description': 'A ring imbued with the wisdom and power of the ancient mage. Enhances magical capabilities and intelligence.',\n",
       "  'Use Restriction': {'Intelligence': 20},\n",
       "  'Effect': {'Intelligence': 10, 'MP Regeneration': 3}}}"
      ]
     },
     "metadata": {},
     "output_type": "display_data"
    },
    {
     "data": {
      "text/plain": [
       "{'Attack_Type': 'Magical',\n",
       " 'Magical_Attack_Method': 'Blast',\n",
       " 'Penetration': {'Physical_Defense_Penetration': '5%',\n",
       "  'Magical_Defense_Penetration': '25%'},\n",
       " 'Accuracy': '90%',\n",
       " 'Status_Effect': {'Effect_Type': ['Silence'],\n",
       "  'Effect_Details': {'Stun_Paralysis_Sleep_Silence_Confusion_Blindness_Charm_Fear_Root': {'Duration': '2 turns'}}},\n",
       " 'Damage': {'Status': ['Intelligence', 'Skill'],\n",
       "  'Coefficient': ['2.5', '1.8'],\n",
       "  'Count': '1'}}"
      ]
     },
     "metadata": {},
     "output_type": "display_data"
    },
    {
     "name": "stdout",
     "output_type": "stream",
     "text": [
      "quit\n"
     ]
    }
   ],
   "source": [
    "start_thread(thread,start_message,STORY_ID)"
   ]
  },
  {
   "cell_type": "code",
   "execution_count": null,
   "metadata": {},
   "outputs": [],
   "source": []
  }
 ],
 "metadata": {
  "kernelspec": {
   "display_name": "Python 3",
   "language": "python",
   "name": "python3"
  },
  "language_info": {
   "codemirror_mode": {
    "name": "ipython",
    "version": 3
   },
   "file_extension": ".py",
   "mimetype": "text/x-python",
   "name": "python",
   "nbconvert_exporter": "python",
   "pygments_lexer": "ipython3",
   "version": "3.10.12"
  }
 },
 "nbformat": 4,
 "nbformat_minor": 2
}
